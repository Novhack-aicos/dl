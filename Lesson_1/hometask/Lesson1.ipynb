{
  "nbformat": 4,
  "nbformat_minor": 0,
  "metadata": {
    "colab": {
      "name": "Untitled1.ipynb",
      "version": "0.3.2",
      "provenance": [],
      "collapsed_sections": []
    },
    "kernelspec": {
      "name": "python3",
      "display_name": "Python 3"
    }
  },
  "cells": [
    {
      "cell_type": "code",
      "metadata": {
        "id": "JYdM-UszD1wa",
        "colab_type": "code",
        "outputId": "62322b36-48fb-4f25-883b-8c0494c921f4",
        "colab": {
          "base_uri": "https://localhost:8080/",
          "height": 34
        }
      },
      "source": [
        "from google.colab import drive \n",
        "drive.mount('/content/gdrive')\n",
        "path = './gdrive/My Drive/ds/'"
      ],
      "execution_count": 195,
      "outputs": [
        {
          "output_type": "stream",
          "text": [
            "Drive already mounted at /content/gdrive; to attempt to forcibly remount, call drive.mount(\"/content/gdrive\", force_remount=True).\n"
          ],
          "name": "stdout"
        }
      ]
    },
    {
      "cell_type": "code",
      "metadata": {
        "id": "wT25YwXnEC-H",
        "colab_type": "code",
        "colab": {}
      },
      "source": [
        "import os\n",
        "import cv2\n",
        "import numpy as np\n",
        "\n",
        "X = None\n",
        "Y = np.array([])\n",
        "\n",
        "def read_files(X, Y, path, ans):\n",
        "  files = os.listdir(path)\n",
        "  for name in files:\n",
        "    img = cv2.imread(path + '/' + name, 0)\n",
        "    if img.shape != 0:\n",
        "      img = cv2.resize(img, (256, 256))\n",
        "      vect = img.reshape(1, 256 ** 2)\n",
        "      vect = vect / 255.\n",
        "      X = vect if (X is None) else np.vstack((X, vect)) \n",
        "      Y = np.append(Y, ans)\n",
        "  return X, Y\n",
        "X_0,Y_0=read_files(X,Y,path+'logloss_1',1);\n",
        "X_1,Y_1=read_files(X,Y,path+'logloss_0',0);\n",
        "X = np.concatenate([X_0, X_1])\n",
        "Y = np.concatenate([Y_0, Y_1])\n"
      ],
      "execution_count": 0,
      "outputs": []
    },
    {
      "cell_type": "code",
      "metadata": {
        "id": "mra6mBViFbIR",
        "colab_type": "code",
        "colab": {}
      },
      "source": [
        "from sklearn.model_selection import train_test_split\n",
        "\n",
        "\n",
        "X_train, X_test, Y_train, Y_test = train_test_split(X, Y,\n",
        "                                                    test_size=0.3,\n",
        "                                                    random_state=48)"
      ],
      "execution_count": 0,
      "outputs": []
    },
    {
      "cell_type": "code",
      "metadata": {
        "id": "cu3W4w_LExck",
        "colab_type": "code",
        "outputId": "390e9e1b-5865-4e54-b8a5-e3f2024bfaa8",
        "colab": {
          "base_uri": "https://localhost:8080/",
          "height": 347
        }
      },
      "source": [
        "def init_model(input_size=256):\n",
        "    ###ЗАДАЧА: проинициализируйте веса модели так, чтобы массив w имел размер (input_size^2,1), а b был числом\n",
        "    w = np.array([0] * (input_size ** 2))\n",
        "    b = 0\n",
        "    return w, b\n",
        "\n",
        "def sigmoid(z):\n",
        "  ###ВАЖНО: функция принимает на вход массив любых размеров, на выход возвращает массив такого же размера\n",
        "  return 1.0/ (1 + np.exp(-z))\n",
        "   \n",
        "\n",
        "def propagate(w, b, X, Y):\n",
        "    w, X, Y = np.array(w), np.array(X), np.array(Y)\n",
        "    \"\"\"\n",
        "    Подсчет текущего предсказания (оно же forward propagation) и градиента функции ошибки (оно же backward propagation)\n",
        "\n",
        "    Input:\n",
        "    w -- веса, numpy_array размера (num_px * num_px * 3, 1)\n",
        "    b -- смещение, скалярная величина\n",
        "    X -- данные размера (num_px * num_px * 3, кол-во образцов)\n",
        "    Y -- вектор истинных ответов размера (1, кол-во образцов)\n",
        "\n",
        "    Return:\n",
        "    cost -- текущая функция потерь\n",
        "    dw -- градиент функции ошибки по w\n",
        "    db -- градиент функции ошибки по b (по сути производная по b)\n",
        "    \n",
        "    \"\"\"\n",
        "    \n",
        "    m = X.shape[1]\n",
        "          \n",
        "    \n",
        "    A = sigmoid(np.dot(w.T,X.T) + b)\n",
        "    \n",
        "    cost = -1.0 / m * np.sum(Y * np.log(A) + (1.0 - Y) * np.log(1.0 - A))\n",
        "      \n",
        "    dw = 1 / m *(np.dot(X.T,(A - Y).T))\n",
        "    db = 1 / m *(np.sum(A - Y))\n",
        "        \n",
        "    grads = {\"dw\": dw,\n",
        "             \"db\": db}\n",
        "    \n",
        "    return grads, cost\n",
        "\n",
        "def optimize(w, b, X, Y, num_iterations, learning_rate, print_cost = False):\n",
        "    \"\"\"\n",
        "    Оптимизация с помощью простого градиентного спуска\n",
        "    \n",
        "    Input:\n",
        "    w -- веса, numpy_array размера (num_px * num_px * 3, 1)\n",
        "    b -- смещение, скалярная величина\n",
        "    X -- данные размера (num_px * num_px * 3, кол-во образцов)\n",
        "    Y -- вектор истинных ответов размера (1, кол-во образцов)\n",
        "    num_iterations -- кол-во итераций алгоритма оптимизации\n",
        "    learning_rate -- коэффициент learning rate\n",
        "    print_cost -- True, если хотите выводить функцию ошибки на каждых 100 итерациях\n",
        "    \n",
        "    Returns:\n",
        "    params -- словарь, содержащий w и b\n",
        "    grads -- словарь, содержащий градиенты функции ошибки по w и b соответственно\n",
        "    costs -- массив (list) со значением функции ошибки для каждой итерации (так делают для визуализации)\n",
        "    \n",
        "    Подсказка:\n",
        "    \n",
        "        1) Используйте ранее написанную функцию propagate().\n",
        "        2) Обновляйте параметры w и b согласно формуле 10.\n",
        "    \"\"\"\n",
        "    \n",
        "    costs = []\n",
        "    \n",
        "    for i in range(num_iterations):\n",
        "        \n",
        "        \n",
        "        ###Напишите значения для градиентов и функции ошибки\n",
        "        grads, cost = propagate(w, b, X, Y)\n",
        "        \n",
        "        \n",
        "        # Retrieve derivatives from grads\n",
        "        dw = grads[\"dw\"]\n",
        "        db = grads[\"db\"]\n",
        "        \n",
        "        # обновление параметров\n",
        "        \n",
        "        ### START CODE HERE ###\n",
        "        w = w-learning_rate*dw\n",
        "        b = b-learning_rate*db\n",
        "        ### END CODE HERE ###\n",
        "        \n",
        "        # Record the costs\n",
        "        if i % 100 == 0:\n",
        "            costs.append(cost)\n",
        "        \n",
        "        # Print the cost every 100 training iterations\n",
        "        if print_cost and i % 100 == 0:\n",
        "            print (\"Cost after iteration %i: %f\" %(i, cost))\n",
        "    \n",
        "    params = {\"w\": w,\n",
        "              \"b\": b}\n",
        "    \n",
        "    grads = {\"dw\": dw,\n",
        "             \"db\": db}\n",
        "    \n",
        "    return params, grads, costs\n",
        "  \n",
        "\n",
        "def predict(w, b, X):\n",
        "    '''\n",
        "    \n",
        "    Inputs:\n",
        "    w\n",
        "    b\n",
        "    X -- данные размера (num_px * num_px * 3, кол-во образцов)\n",
        "    \n",
        "    Returns:\n",
        "    Y_prediction\n",
        "    '''\n",
        "    m = X.shape[0]\n",
        "    Y_prediction = np.zeros((1,m))\n",
        "    w = w.reshape(X.T.shape[0], 1)\n",
        "    \n",
        "    \n",
        "    ### START CODE HERE ### (≈ 1 line of code)\n",
        "    A = sigmoid(np.dot(w.T,X.T) + b)\n",
        "    \n",
        "    ### END CODE HERE ###\n",
        "    \n",
        "    for i in range(A.shape[1]):\n",
        "        \n",
        "        # Установите порог, выше которого считаем, что модель выдает 1, а ниже - ноль\n",
        "        ### START CODE HERE ###\n",
        "        if(A[:, i] <= 0.5):\n",
        "            Y_prediction[:, i] = 0\n",
        "        else:\n",
        "            Y_prediction[:, i] = 1\n",
        "        ### END CODE HERE ###\n",
        "    \n",
        "    return Y_prediction\n",
        "\n",
        "w,b=init_model()\n",
        " \n",
        "\n",
        "parameters, grads, costs= optimize(w, b, X_train, Y_train, 10000, 0.005, print_cost = True)\n",
        "\n",
        "w = parameters[\"w\"]\n",
        "b = parameters[\"b\"]\n",
        "\n",
        "\n",
        "y_train = predict(w,b,np.array(X_train))\n",
        "y_test = predict(w, b, X_test)\n",
        "\n",
        "\n",
        "from sklearn.metrics import accuracy_score\n",
        "\n",
        "train_accuracy = accuracy_score(Y_train,y_train[0])\n",
        "test_accuracy = accuracy_score(Y_test,y_test[0])\n",
        "print(train_accuracy)\n",
        "print(test_accuracy)\n"
      ],
      "execution_count": 0,
      "outputs": [
        {
          "output_type": "stream",
          "text": [
            "Cost after iteration 0: 0.000476\n",
            "Cost after iteration 100: 0.000464\n",
            "Cost after iteration 200: 0.000456\n",
            "Cost after iteration 300: 0.000450\n",
            "Cost after iteration 400: 0.000446\n",
            "Cost after iteration 500: 0.000442\n",
            "Cost after iteration 600: 0.000438\n",
            "Cost after iteration 700: 0.000434\n",
            "Cost after iteration 800: 0.000431\n",
            "Cost after iteration 900: 0.000428\n",
            "Cost after iteration 1000: 0.000425\n",
            "Cost after iteration 1100: 0.000422\n",
            "Cost after iteration 1200: 0.000418\n",
            "Cost after iteration 1300: 0.000416\n",
            "Cost after iteration 1400: 0.000413\n",
            "Cost after iteration 1500: 0.000410\n",
            "Cost after iteration 1600: 0.000407\n",
            "Cost after iteration 1700: 0.000404\n",
            "Cost after iteration 1800: 0.000402\n"
          ],
          "name": "stdout"
        }
      ]
    },
    {
      "cell_type": "code",
      "metadata": {
        "id": "u_4sZZcID_r3",
        "colab_type": "code",
        "colab": {}
      },
      "source": [
        ""
      ],
      "execution_count": 0,
      "outputs": []
    },
    {
      "cell_type": "code",
      "metadata": {
        "id": "8gVPi8EBI2F6",
        "colab_type": "code",
        "colab": {
          "base_uri": "https://localhost:8080/",
          "height": 132
        },
        "outputId": "af9d088e-251f-4efa-ecd5-287e79e4c129"
      },
      "source": [
        "},\n"
      ],
      "execution_count": 199,
      "outputs": [
        {
          "output_type": "error",
          "ename": "SyntaxError",
          "evalue": "ignored",
          "traceback": [
            "\u001b[0;36m  File \u001b[0;32m\"<ipython-input-199-f1b03fc40199>\"\u001b[0;36m, line \u001b[0;32m1\u001b[0m\n\u001b[0;31m    },\u001b[0m\n\u001b[0m    ^\u001b[0m\n\u001b[0;31mSyntaxError\u001b[0m\u001b[0;31m:\u001b[0m invalid syntax\n"
          ]
        }
      ]
    }
  ]
}